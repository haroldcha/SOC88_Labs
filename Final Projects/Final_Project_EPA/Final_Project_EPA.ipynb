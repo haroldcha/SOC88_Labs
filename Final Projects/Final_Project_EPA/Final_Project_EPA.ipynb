{
 "cells": [
  {
   "cell_type": "markdown",
   "metadata": {},
   "source": [
    "# SOC 88 Final Project - EPA and Pollution"
   ]
  },
  {
   "cell_type": "markdown",
   "metadata": {},
   "source": [
    "This notebook is the first step for your final project.  In this notebook, you will be introduced to your dataset and guided through some analysis and visualizations that you may use for your final policy brief.  You can use some or all of the figures provided below to formulate your argument. \n",
    "\n",
    "Due to the limited examples shown in this notebook, it is highly encouraged to perform your own analysis and create your own figures."
   ]
  },
  {
   "cell_type": "markdown",
   "metadata": {},
   "source": [
    "# The Data"
   ]
  },
  {
   "cell_type": "code",
   "execution_count": null,
   "metadata": {},
   "outputs": [],
   "source": [
    "from datascience import *\n",
    "import matplotlib.pyplot as plt\n",
    "import numpy as np\n",
    "%matplotlib inline"
   ]
  },
  {
   "cell_type": "markdown",
   "metadata": {},
   "source": [
    "Our dataset is the CalEnviroScreen 3.0 data, which contains data on a variety of different environmental markers in different census regions, or \"tracts,\" as well as an overall pollution score, called the \"CES 3.0 Score.\"  In our version of the data table, it is labelled as __ces_30_score__.  It also contains some demographic information.  More information on the data can be found here: https://oehha.ca.gov/media/downloads/calenviroscreen/report/ces3report.pdf"
   ]
  },
  {
   "cell_type": "code",
   "execution_count": null,
   "metadata": {},
   "outputs": [],
   "source": [
    "clean_ces_data = Table.read_table(\"data/cleaned_epa_data.csv\")\n",
    "clean_ces_data.show(5)"
   ]
  },
  {
   "cell_type": "code",
   "execution_count": null,
   "metadata": {},
   "outputs": [],
   "source": [
    "clean_ces_data.labels"
   ]
  },
  {
   "cell_type": "markdown",
   "metadata": {},
   "source": [
    "As you can see, there are quite a few different categories to look at.  We will provide some figures below, and you can use those or use them as a starting point for your own analysis.\n",
    "\n",
    "__Note__: We found that many of these data points do not show any correlation, so don't be concerned if you find the same."
   ]
  },
  {
   "cell_type": "markdown",
   "metadata": {},
   "source": [
    "# The Analysis"
   ]
  },
  {
   "cell_type": "markdown",
   "metadata": {},
   "source": [
    "Let's explore how pollution score affect asthma rates.\n",
    "\n",
    "__The plot below has no labels and limited formatting.  It is your job to format the plot and to determine the axis labels and title.__"
   ]
  },
  {
   "cell_type": "code",
   "execution_count": null,
   "metadata": {},
   "outputs": [],
   "source": [
    "plt.clf()\n",
    "\n",
    "fig = plt.figure(facecolor='white', figsize=(8,8))\n",
    "ax = fig.add_subplot(111)\n",
    "\n",
    "plt.scatter(clean_ces_data.column(\"ces_30_score\"), clean_ces_data.column(\"asthma\"))\n",
    "\n",
    "#add trendline using np.polyfit: takes x, y, and degree of polynomial (1)\n",
    "#recall y = m*x + b\n",
    "m, b = np.polyfit(clean_ces_data.column(\"ces_30_score\"), clean_ces_data.column(\"asthma\"), 1)\n",
    "plt.plot(clean_ces_data.column(\"ces_30_score\"), m*clean_ces_data.column(\"ces_30_score\") + b, color='red')\n",
    "\n",
    "plt.show()"
   ]
  },
  {
   "cell_type": "markdown",
   "metadata": {},
   "source": [
    "  "
   ]
  },
  {
   "cell_type": "markdown",
   "metadata": {},
   "source": [
    "Let's explore the relationship between the percent of nonwhite residents in a census tract and its pollution score.\n",
    "\n",
    "__Again, the plot below has no labels and limited formatting.  It is your job to format the plot and to determine the axis labels and title.__ Perhaps consider adding a trendline?"
   ]
  },
  {
   "cell_type": "code",
   "execution_count": null,
   "metadata": {},
   "outputs": [],
   "source": [
    "plt.clf()\n",
    "\n",
    "fig = plt.figure(facecolor='white', figsize=(8,8))\n",
    "ax = fig.add_subplot(111)\n",
    "\n",
    "plt.scatter(clean_ces_data.column(\"pct_nonwhite\"), clean_ces_data.column(\"ces_30_score\"))\n",
    "\n",
    "plt.show()"
   ]
  },
  {
   "cell_type": "markdown",
   "metadata": {},
   "source": [
    " "
   ]
  },
  {
   "cell_type": "markdown",
   "metadata": {},
   "source": [
    "Let's now look at how poverty of a census tract and pollution score relate to one another.\n",
    "\n",
    "__Again, the plot below has no labels and limited formatting.  It is your job to format the plot and to determine the axis labels and title.__ Perhaps consider adding a trendline?"
   ]
  },
  {
   "cell_type": "code",
   "execution_count": null,
   "metadata": {},
   "outputs": [],
   "source": [
    "plt.clf()\n",
    "\n",
    "fig = plt.figure(facecolor='white', figsize=(8,8))\n",
    "ax = fig.add_subplot(111)\n",
    "\n",
    "plt.scatter(clean_ces_data.column(\"poverty\"), clean_ces_data.column(\"ces_30_score\"))\n",
    "\n",
    "plt.show()"
   ]
  },
  {
   "cell_type": "markdown",
   "metadata": {},
   "source": [
    " "
   ]
  },
  {
   "cell_type": "markdown",
   "metadata": {},
   "source": [
    "Let's now look at mapping visualizations.  Due to the complicated nature of this data, cleaning and readjusting the data has already been done for you."
   ]
  },
  {
   "cell_type": "code",
   "execution_count": null,
   "metadata": {},
   "outputs": [],
   "source": [
    "#run this cell, do not change the contents\n",
    "#load dependencies\n",
    "import folium\n",
    "import json\n",
    "import os\n",
    "import pandas as pd"
   ]
  },
  {
   "cell_type": "code",
   "execution_count": null,
   "metadata": {},
   "outputs": [],
   "source": [
    "#run this cell, do not change the contents\n",
    "#load raw Cal EnviroScreen xlsx file, this will take a few seconds, format to match geojson\n",
    "full_epa_data = pd.read_excel('data/ces3results.xlsx')\n",
    "full_epa_data['Census Tract'] = full_epa_data['Census Tract'].apply(str)"
   ]
  },
  {
   "cell_type": "code",
   "execution_count": null,
   "metadata": {},
   "outputs": [],
   "source": [
    "#run this cell, do not change the contents\n",
    "#load clean geojson\n",
    "mapping = json.load(open('data/formatted_ca_tracts.geojson'))"
   ]
  },
  {
   "cell_type": "markdown",
   "metadata": {},
   "source": [
    " "
   ]
  },
  {
   "cell_type": "markdown",
   "metadata": {},
   "source": [
    "The map below is a __template__ for you to use to create your own maps.  __The formatting is up to you.__"
   ]
  },
  {
   "cell_type": "code",
   "execution_count": null,
   "metadata": {},
   "outputs": [],
   "source": [
    "#this code will take a few seconds to run\n",
    "center = [37.16611, -119.44944]\n",
    "\n",
    "m = folium.Map(center, zoom_start=6)\n",
    "\n",
    "folium.Choropleth(\n",
    "    geo_data=mapping,\n",
    "    data=full_epa_data,\n",
    "    columns=['Census Tract', 'CES 3.0 Score'],\n",
    "    key_on='feature.properties.GEOID',\n",
    "    fill_color='RdPu',\n",
    "    legend_name='CES 3.0 Pollution Score'\n",
    ").add_to(m)\n",
    "\n",
    "folium.LayerControl().add_to(m)\n",
    "\n",
    "m"
   ]
  },
  {
   "cell_type": "markdown",
   "metadata": {},
   "source": [
    "# Next Steps"
   ]
  },
  {
   "cell_type": "markdown",
   "metadata": {},
   "source": [
    "After formatting these plots, your task is to use these visualizations or others of your own creation in developing a policy brief, impact plan, and optional explainer video.  Good luck!"
   ]
  },
  {
   "cell_type": "code",
   "execution_count": null,
   "metadata": {},
   "outputs": [],
   "source": []
  },
  {
   "cell_type": "markdown",
   "metadata": {},
   "source": [
    "_Developed by Katherine Oosterbaan, Keilyn Yuzuki, and Keeley Takimoto_"
   ]
  }
 ],
 "metadata": {
  "kernelspec": {
   "display_name": "Python 3",
   "language": "python",
   "name": "python3"
  },
  "language_info": {
   "codemirror_mode": {
    "name": "ipython",
    "version": 3
   },
   "file_extension": ".py",
   "mimetype": "text/x-python",
   "name": "python",
   "nbconvert_exporter": "python",
   "pygments_lexer": "ipython3",
   "version": "3.7.6"
  }
 },
 "nbformat": 4,
 "nbformat_minor": 2
}
