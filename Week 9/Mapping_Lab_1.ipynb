{
 "cells": [
  {
   "cell_type": "markdown",
   "metadata": {},
   "source": [
    "# [SOC-88] Mapping Lab 1: Introduction to Mapping w/ Folium\n",
    "\n",
    "## Professor David Harding\n",
    "\n",
    "----------------"
   ]
  },
  {
   "cell_type": "markdown",
   "metadata": {},
   "source": [
    "<img src=\"bay_area.png\" style=\"width: 600px;\"/>"
   ]
  },
  {
   "cell_type": "markdown",
   "metadata": {},
   "source": [
    "Welcome! Throughout this lab you will be using Python and packages (such as folium) to create mapping visualizations from the Police Incidents data. The purpose of this lab is to learn how to create elegant data visualizations with maps that convey compelling arguments from data.\n",
    "\n",
    "**Learning Outcomes:**\n",
    "\n",
    "By the end of the notebook, students should be able to:\n",
    "\n",
    "- Use location data to create a map visualization.\n",
    "- Implement mapping features to convey and create compelling arguments from the data.\n",
    "- Use aesthetics to communicate information about the data."
   ]
  },
  {
   "cell_type": "markdown",
   "metadata": {},
   "source": [
    "## Table of Contents \n",
    "\n",
    "\n",
    "1. [Introduction](#1)\n",
    "<br/><br/>\n",
    "2. [Introduction to Mapping](#2) \n",
    "   - [Tiles](#2.1)\n",
    "       - [Question 1](#a)\n",
    "   - [Markers](#2.2)\n",
    "       - [Question 2](#b)\n",
    "       - [Question 3](#c)\n",
    "       - [Question 4](#d)\n",
    "   - [Circles](#2.3)\n",
    "       - [Question 5](#e)\n",
    "       - [Question 6](#f)\n",
    "<br/><br/>\n",
    "3. [Conclusion](#3)\n",
    "4. [Bibliography](#4)"
   ]
  },
  {
   "cell_type": "markdown",
   "metadata": {},
   "source": [
    "<br><br>\n",
    "## 1. Introduction <a id='1'></a>\n",
    "\n",
    "In this lab assignment, you will practice different techniques for creating mapping visualizations using **Folium**. We will be using the same police incidents data from the homework, namely `Police_Incidents_2019.csv`. This data was collected from [Open Data Minneapolis](http://opendata.minneapolismn.gov/).\n",
    "\n",
    "Run the following cell to load the necessary packages."
   ]
  },
  {
   "cell_type": "code",
   "execution_count": null,
   "metadata": {},
   "outputs": [],
   "source": [
    "from datascience import *\n",
    "import numpy as np\n",
    "import matplotlib.pyplot as plt\n",
    "%matplotlib inline\n",
    "import datetime\n",
    "import folium\n",
    "import json\n",
    "import os\n",
    "\n",
    "#Updates the folium package in case you already installed it before\n",
    "!pip install folium --upgrade -q"
   ]
  },
  {
   "cell_type": "markdown",
   "metadata": {},
   "source": [
    "<br><br>\n",
    "\n",
    "## 2. Introduction to Mapping <a id='2'></a>\n",
    "\n",
    "**Data Mapping** is a process for managing spatial data and creating a type of data visualization in maps (e.g. street, satellite, topological, etc.) to communicate location-related information about the data. Every map conveys a different message and has a unique purpose. Here are some examples and their interpretations:\n",
    "\n",
    "- **Political Map:** communicates geographical boundaries for states, counties, countries, etc. This also includes roads, cities and major water boundaries such as oceans, rivers and lakes.\n",
    "- **Heat Map:** using color schemes on maps to communicate high values with bright colors and low values with darker colors. For example, a [weather map](https://www.google.com/search?q=weather+map&hl=en&source=lnms&tbm=isch&sa=X&ved=2ahUKEwjdhcDEhbLoAhWM4J4KHX2aCLoQ_AUoAXoECA0QAw&biw=1440&bih=821#imgrc=OmR67PwUq48WEM) shows high temperature in red and colder temperature in blue.\n",
    "- **Topographic Map:** provides information on the Earth's surface and elevation using contour lines. Modern topological maps can show this information in 3D like [Google Earth](https://www.google.com/earth/). \n",
    "- **Road Map:** communicates roads, streets, and highways like [Google Maps](https://www.google.com/maps)\n",
    "\n",
    "\n",
    "Other programs such as ArcGIS and QGIS are mapping softwares that allow data analysts to create such data visualizations. However, in this lab we will be using Python and a package known as **Folium** to create road maps. You can find the [Folium Documentation here](https://python-visualization.github.io/folium/) and a [Quickstart Guide here](https://python-visualization.github.io/folium/quickstart.html).\n",
    "\n",
    "Run the code cell below to load the 2019 Police Incidents Data."
   ]
  },
  {
   "cell_type": "code",
   "execution_count": null,
   "metadata": {
    "scrolled": false
   },
   "outputs": [],
   "source": [
    "# Reads the .csv file\n",
    "incidents = Table().read_table('Police_Incidents_2019.csv')\n",
    "# Cleans the data in string format\n",
    "incidents['caseNumber'] = np.array([i.strip(' ') for i in incidents.column(3)])\n",
    "incidents['offense'] = np.array([i.strip(' ') for i in incidents.column(10)])\n",
    "incidents['description'] = np.array([i.strip(' ') for i in incidents.column(11)])\n",
    "\n",
    "incidents.show(5)"
   ]
  },
  {
   "cell_type": "markdown",
   "metadata": {},
   "source": [
    "The `Police_Incidents_2019.csv` dataset shown above has records of all police incidents that took place in 2019. Its columns contain information such as the latitude-longitude information of incidents, police precinct & neighborhood in which the incident occurred, time & date of the report, type of crime, etc. The latitude and logitude data will help us place the coordinates on a map."
   ]
  },
  {
   "cell_type": "markdown",
   "metadata": {},
   "source": [
    "To construct a Map, we first must collect the X and Y coordinates for the center of our map. These coordinates must be taken from our table and placed in the form of a list (i.e. `[Y, X]`). Below, we take the first row of the dataset and place its coordinates into `Folium.Map`."
   ]
  },
  {
   "cell_type": "code",
   "execution_count": null,
   "metadata": {},
   "outputs": [],
   "source": [
    "# Gets Coordinates for Incident 0 (Row 0)\n",
    "coordinate = [incidents.column('Y').item(0), incidents.column('X').item(0)]\n",
    "\n",
    "#Creates Map\n",
    "point_map = folium.Map(location=coordinate)\n",
    "point_map"
   ]
  },
  {
   "cell_type": "markdown",
   "metadata": {},
   "source": [
    "It's not surprising to see an output of a map of Minneapolis since our data is collected form [Open Source Minneapolis](https://python-visualization.github.io/folium/quickstart.html) . However, this map is very zoomed out. If we wanted to zoom in on the exact location of the incident, we can use the parameter `zoom_start` and give it a value indicating how far we want to zoom. The larger the value, the more we zoom in.\n",
    "\n",
    "Run the code cell below to zoom in on our map for the specific incident."
   ]
  },
  {
   "cell_type": "code",
   "execution_count": null,
   "metadata": {
    "scrolled": false
   },
   "outputs": [],
   "source": [
    "# Creates map with zoom 16\n",
    "point_map = folium.Map(location=coordinate, zoom_start=16)\n",
    "point_map"
   ]
  },
  {
   "cell_type": "markdown",
   "metadata": {},
   "source": [
    "<br><br>\n",
    "## 2.1. Tiles <a id='2.1'></a>\n",
    "\n",
    "**Tiles** is a feature in Folium that allows you to change the outline/background of the map. The current available built-in tiles are: \"OpenStreetMap\", \"Stamen Terrain\", \"Stamen Toner\", \"Stamen Watercolor\", \"CartoDB positron\", and \"CartoDB dark_matter\".\n",
    "\n",
    "To do this, we use the parameter `tiles` in our `folium.Map` function. OpenStreetMap is the current default. Run the code cell below to visualize our map, then try replacing the default with the other pre-built-in tiles to visualize different outputs."
   ]
  },
  {
   "cell_type": "code",
   "execution_count": null,
   "metadata": {
    "scrolled": false
   },
   "outputs": [],
   "source": [
    "# Creates Open Street Map\n",
    "point_map = folium.Map(location=coordinate, zoom_start=16, tiles=\"OpenStreetMap\")\n",
    "point_map"
   ]
  },
  {
   "cell_type": "markdown",
   "metadata": {},
   "source": [
    "<br><br>\n",
    "### Question 1 <a id='a'></a>\n",
    "\n",
    "Now, create a map using the X and Y coordinates of the Case Number `MP201971740`. Create a copy of the `incidents` table with just the one row with that specific case, and assign it to `case` . Use an appropriate zoom and the 'Stamen Terrain' tile. Edit the two code cells below."
   ]
  },
  {
   "cell_type": "code",
   "execution_count": null,
   "metadata": {},
   "outputs": [],
   "source": [
    "# Table for Case Number MP201971740\n",
    "case = ...\n",
    "case.show()"
   ]
  },
  {
   "cell_type": "code",
   "execution_count": null,
   "metadata": {},
   "outputs": [],
   "source": [
    "# Coordinates for Case Number MP201971740\n",
    "case_coordinate = [..., ...]\n",
    "\n",
    "# Creates Stamen Terrain Map for the case\n",
    "case_map = folium.Map(location=case_coordinate, zoom_start=..., tiles=...)\n",
    "case_map"
   ]
  },
  {
   "cell_type": "markdown",
   "metadata": {},
   "source": [
    "As you can see above and in the previous examples, it's difficult to see where the incident specifically took place. To resolve this, we can use markers to pinpoint the exact location."
   ]
  },
  {
   "cell_type": "markdown",
   "metadata": {},
   "source": [
    "<br><br>\n",
    "## 2.2. Markers <a id='2.2'></a>\n",
    "\n",
    "To use markers, we use the `folium.Marker` method with some coordinates. Then, we can add it onto our map using `.addto(map)`. The `Marker` method has the following paramaters:\n",
    "\n",
    "- **location:** takes in [y, x] coordinates\n",
    "- **popup:** gives a label to your marker in string format (e.g. \"Point A\"); appears when clicking on the marker\n",
    "- **tooltip:** a message to the viewer when hovering the mouse over the map.\n",
    "- **icon:** gives a specific icon (e.g. cloud, information sign) using folium.Icon(color, icon) (use the documentation to view more information about `folium.Icon`"
   ]
  },
  {
   "cell_type": "markdown",
   "metadata": {},
   "source": [
    "Let's give our `coordinate` a marker on our map. First, we collect the offense and descripton of the first row from the `incidents` table for the tooltip and popup, respectively. Then, we use the `exclamation-sign` icon along with a `red` color all in `folium.Marker` command. Lastly, we add the marker to our map using `.add_to`. Run the code cell below to visualize the map of this specific case."
   ]
  },
  {
   "cell_type": "code",
   "execution_count": null,
   "metadata": {
    "scrolled": false
   },
   "outputs": [],
   "source": [
    "# Gets the offense and description of first row\n",
    "offense = incidents.column('offense').item(0) \n",
    "description = incidents.column('description').item(0) \n",
    "\n",
    "\n",
    "# Creates a Marker + Adds to Map\n",
    "folium.Marker(location=coordinate, popup=description, \n",
    "              tooltip=offense, icon=folium.Icon(color='red', icon='exclamation-sign')).add_to(point_map)\n",
    "\n",
    "point_map"
   ]
  },
  {
   "cell_type": "markdown",
   "metadata": {},
   "source": [
    "You can also change the icon symbol depending on what message you want to convey. In our case, we used an exclamation sign to indicate a warning of an offense at that location. Folium only supports a limited number of icons. You can find the full available [List of Icons](https://getbootstrap.com/docs/3.3/components/) here.\n",
    "\n",
    "For colors, there are also a limited number of options:\n",
    "\n",
    "| | Colors| |\n",
    "| --- | --- | --- |\n",
    "| beige | black | blue |\n",
    "| cadetblue | darkblue | darkgreen |\n",
    "| darkpurple | darkred | gray |\n",
    "| green | lightblue | lightgray |\n",
    "| lightgreen | lightred | orange |\n",
    "| pink | purple | red |"
   ]
  },
  {
   "cell_type": "markdown",
   "metadata": {},
   "source": [
    "<br><br>\n",
    "### Question 2 <a id='b'></a>\n",
    "\n",
    "Now, using your `case_coordinate` from Question 1, create a marker on the map. Edit the code cell below to give the marker a `description` of the offense as provided in the `incidents` table. Use an appropriate icon and color that best descibes the incident. Lastly, allow the name of the `offense` to appear when hovering the mouse over the marker."
   ]
  },
  {
   "cell_type": "code",
   "execution_count": null,
   "metadata": {
    "scrolled": false
   },
   "outputs": [],
   "source": [
    "# Gets the offense and description for Case Number MP201971740\n",
    "case_offense = ...\n",
    "case_description = ...\n",
    "\n",
    "# Creates a Marker + Adds to Map\n",
    "folium.Marker(location=case_coordinate, popup=...,\n",
    "              tooltip=..., icon=folium.Icon(color='...', icon='...')).add_to(case_map)\n",
    "\n",
    "case_map"
   ]
  },
  {
   "cell_type": "markdown",
   "metadata": {},
   "source": [
    "### Question 3 <a id='c'></a>\n",
    "\n",
    "To visualize multiple markers on a map, we need to create more markers with their given coordinates. Edit the code cell below to create 3 markers for rows 1, 2, and 3. Give the markers appropriate colors, offense name, descriptions, and icons based on their corresponding incident. The full list of icons is provided [here](https://getbootstrap.com/docs/3.3/components/).\n",
    "\n",
    "**Note:** When trying out icons from this website into your `icon` parameter, exclude the 'glyphicon' portion of the icon label and copy only the specific name of the icon."
   ]
  },
  {
   "cell_type": "code",
   "execution_count": null,
   "metadata": {},
   "outputs": [],
   "source": [
    "point_map = folium.Map(location=coordinate, zoom_start=13, tiles=\"OpenStreetMap\")\n",
    "\n",
    "# For Incident 1 (Row 1)\n",
    "coordinateA = [..., ...]\n",
    "offenseA = ...\n",
    "descriptionA = ...\n",
    "folium.Marker(location=..., popup=..., \n",
    "              tooltip=..., icon=folium.Icon(color='...', icon='...')).add_to(point_map)\n",
    "\n",
    "# For Incident 2 (Row 2)\n",
    "coordinateB = [..., ...]\n",
    "offenseB = ...\n",
    "descriptionB = ...\n",
    "folium.Marker(location=..., popup=..., \n",
    "              tooltip=..., icon=folium.Icon(color='...', icon='...')).add_to(point_map)\n",
    "\n",
    "# For Incident 3 (Row 3)\n",
    "coordinateC = [..., ...]\n",
    "offenseC = ...\n",
    "descriptionC = ...\n",
    "folium.Marker(location=..., popup=..., \n",
    "              tooltip=..., icon=folium.Icon(color='...', icon='...')).add_to(point_map)\n",
    "\n",
    "point_map"
   ]
  },
  {
   "cell_type": "markdown",
   "metadata": {},
   "source": [
    "### Question 4 <a id='d'></a>\n",
    "\n",
    "Now, let's create a map with markers for a subset of the coordinates in our `incidents` Table. Assign `downtown_west` to the data points from `incidents` corresponding to the cases where the `neighborhood` is in `Downtown West`. Then, place it onto our map with their corresponding color, offense name, description, and icon. Here, we use a `for` loop to make Python do the repetitive work instead of us manually creating a marker for each Downtown West case. Then, feel free to zoom in and out to see the different incidents. Edit the code cell below.\n",
    "\n",
    "**Note:** If you do not see any markers, try running the cell again."
   ]
  },
  {
   "cell_type": "code",
   "execution_count": null,
   "metadata": {},
   "outputs": [],
   "source": [
    "incidents_map = folium.Map(location=coordinate, tiles=\"OpenStreetMap\", zoom_start=15)\n",
    "\n",
    "# A table for incidents in Downtown West\n",
    "downtown_west = ...\n",
    "\n",
    "for i in range(len(downtown_west.rows)):\n",
    "    coordinate = [..., ...]\n",
    "    offense = ...\n",
    "    description = ...\n",
    "    folium.Marker(location=..., popup=..., \n",
    "                  tooltip=..., icon=folium.Icon(color='...', icon='...')).add_to(incidents_map)\n",
    "    \n",
    "incidents_map"
   ]
  },
  {
   "cell_type": "markdown",
   "metadata": {},
   "source": [
    "By using the same `for` loop, we can filter based on other neighborhoods. In addition, we can create other maps for specific incidents (e.g. burglaries, assults, thefts, etc.). We can also map all the incidents that occured within a specific date. All of this can be done by using our `for` loop to make it easier to mark down all the cases and their respective information."
   ]
  },
  {
   "cell_type": "markdown",
   "metadata": {},
   "source": [
    "## 2.3. Circles <a id='2.3'></a>\n",
    "\n",
    "Another way of communicating data within a certain region is using `Circles`. We can create a circular region with a specified radius to show the vicinity of some incidents within the region. To do this, we use two commands:\n",
    "- `folium.Circle` creates the circle based on the coordinates of the center, and\n",
    "- `folium.CircleMarker` allows us to design the circle.\n",
    "\n",
    "Just like with `Markers`, once we have our `Circle`, we then use `.add_to` to add it to our folium map. \n",
    "\n",
    "`folium.Circle` and `folium.CircleMarker` have the following parameters:\n",
    "\n",
    "- **location:** the center coordinates of the circle\n",
    "- **radius:** the distance from the center\n",
    "- **popup:** a label to your marker in string format (e.g. \"Point A\")\n",
    "- **color:** the color for the outline of the circle\n",
    "- **fill:** boolean parameter (True or False) to fill the circle with the color specified before"
   ]
  },
  {
   "cell_type": "markdown",
   "metadata": {},
   "source": [
    "Now, lets create a `Circle` for the 'Bike Theft' incidents in Downtown West. Let's first filter our `incidents` table with only rows whose `neighborhood` is `Downtown West` and `offense` is `BIKETF`."
   ]
  },
  {
   "cell_type": "code",
   "execution_count": null,
   "metadata": {},
   "outputs": [],
   "source": [
    "# A table of Bike thefts in Downtown West\n",
    "bike_theft = incidents.where('neighborhood', are.equal_to('Downtown West')).where('offense', are.equal_to('BIKETF'))\n",
    "bike_theft.show(5)"
   ]
  },
  {
   "cell_type": "markdown",
   "metadata": {},
   "source": [
    "Let's assume we know the center of this subset of our data. The center is indicated in code cell below."
   ]
  },
  {
   "cell_type": "code",
   "execution_count": null,
   "metadata": {},
   "outputs": [],
   "source": [
    "# A row for the center of the circle\n",
    "center = bike_theft.where('caseNumber', are.equal_to('MP2019126982'))\n",
    "center"
   ]
  },
  {
   "cell_type": "markdown",
   "metadata": {},
   "source": [
    "### Question 5 <a id='e'></a>\n",
    "\n",
    "Using the `center`, edit the code cells below to create a circle for Bike Thefts in Downtown West. Test different radii to see which best fits the data (start off with 300 and then edit accordingly). Provide an appropriate color, fill, popup, and tooltip."
   ]
  },
  {
   "cell_type": "code",
   "execution_count": null,
   "metadata": {},
   "outputs": [],
   "source": [
    "# Get Coordinate, Offense, and Description from Center Coordinate\n",
    "center_coordinate = [..., ...]\n",
    "center_offense = ...\n",
    "center_description = ...\n",
    "\n",
    "# Do NOT edit the following lines; the following helps set up bike_map for you\n",
    "bike_map = folium.Map(location=center_coordinate, tiles=\"OpenStreetMap\", zoom_start=15)\n",
    "for i in range(len(bike_theft.rows)):\n",
    "    coordinate = [bike_theft['Y'].item(i), bike_theft['X'].item(i)]\n",
    "    offense = bike_theft['offense'].item(i)\n",
    "    description = bike_theft['caseNumber'].item(i)\n",
    "    folium.Marker(location=coordinate, popup=description, \n",
    "                  tooltip=offense, icon=folium.Icon(color='red', icon='exclamation-sign')).add_to(bike_map)\n",
    "\n",
    "# Create your Circle here\n",
    "folium.Circle(radius=..., \n",
    "              location=...,  \n",
    "              color='...', \n",
    "              fill=..., tooltip=...,\n",
    "             popup=...).add_to(bike_map)\n",
    "bike_map"
   ]
  },
  {
   "cell_type": "markdown",
   "metadata": {},
   "source": [
    "### Question 6 <a id='f'></a>\n",
    "\n",
    "From the map outputted above, what conclusions can someone draw? Who would benefit from this type of information? What information can be conveyed based on your color choice?"
   ]
  },
  {
   "cell_type": "markdown",
   "metadata": {},
   "source": [
    "**Write your answer here. Double-click to edit the cell.**"
   ]
  },
  {
   "cell_type": "markdown",
   "metadata": {},
   "source": [
    "<br><br>\n",
    "<div class=\"alert alert-warning\">\n",
    "<b> CHALLENGE QUESTION: Use the code cell below to create different maps that convey different information. Some suggestions are listed below:\n",
    "\n",
    "- A map that shows all the common shoplifting incidents in Downtown West.\n",
    "- A map showing all the incidents that occured in precinct 3 in April 2019.\n",
    "- A map with circles showing the vicinity of different incidents (e.g. automobile theft, shopliffting, etc.)\n",
    "    \n",
    "Feel free to make your own maps!\n",
    "    \n",
    "</b> \n",
    "</div>"
   ]
  },
  {
   "cell_type": "code",
   "execution_count": null,
   "metadata": {},
   "outputs": [],
   "source": [
    "# Edit this code cell\n",
    "# To create your own maps!"
   ]
  },
  {
   "cell_type": "markdown",
   "metadata": {},
   "source": [
    "<br><br>\n",
    "## Conclusion <a id='3'></a>\n",
    "\n",
    "Congratulations! You now have the ropes to create mapping visualizations with the Folium library. You learned how to create a map with coordinates, add markers to indicate specific locations, and draw circles to highlight interesting vicinities.\n",
    "\n",
    "These are only some tips for creating mapping visualizations. Feel free to explore other aspects that you can create in the Folium Documentation!"
   ]
  },
  {
   "cell_type": "markdown",
   "metadata": {},
   "source": [
    "<br><br>\n",
    "## Bibliography <a id='3'></a>\n",
    "\n",
    "- 2019 Police Incidents Data - Open Data Minneapolis http://opendata.minneapolismn.gov/\n",
    "- Hobart M. King - Different Types of Maps. https://geology.com/maps/types-of-maps/\n",
    "- Folium Documentation - https://python-visualization.github.io/folium/\n",
    "- Folium Quickstart Guide - https://python-visualization.github.io/folium/quickstart.html\n",
    "- Bootstrap - List of Icons https://getbootstrap.com/docs/3.3/components/"
   ]
  },
  {
   "cell_type": "markdown",
   "metadata": {},
   "source": [
    "---\n",
    "\n",
    "Notebook developed by: Elias Saravia\n",
    "\n",
    "**Data Science Modules:** http://data.berkeley.edu/education/modules\n",
    "\n",
    "**Data Science Offerings at Berkeley:** https://data.berkeley.edu/academics/undergraduate-programs/data-science-offerings"
   ]
  }
 ],
 "metadata": {
  "kernelspec": {
   "display_name": "Python 3",
   "language": "python",
   "name": "python3"
  },
  "language_info": {
   "codemirror_mode": {
    "name": "ipython",
    "version": 3
   },
   "file_extension": ".py",
   "mimetype": "text/x-python",
   "name": "python",
   "nbconvert_exporter": "python",
   "pygments_lexer": "ipython3",
   "version": "3.7.6"
  }
 },
 "nbformat": 4,
 "nbformat_minor": 4
}
